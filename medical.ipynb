{
  "nbformat": 4,
  "nbformat_minor": 0,
  "metadata": {
    "colab": {
      "name": "Sana_Bahari_Preeti_Yadav_Chaitra_ravindranath.ipynb",
      "provenance": [],
      "collapsed_sections": []
    },
    "kernelspec": {
      "name": "python3",
      "display_name": "Python 3"
    },
    "accelerator": "GPU"
  },
  "cells": [
    {
      "cell_type": "markdown",
      "metadata": {
        "id": "q8gZZKQL8ddT",
        "colab_type": "text"
      },
      "source": [
        "\n",
        "-dataset link: https://www.kaggle.com/joniarroba/noshowappointments\n"
      ]
    },
    {
      "cell_type": "code",
      "metadata": {
        "id": "BbqBONUImJny",
        "colab_type": "code",
        "outputId": "813249ce-a3dc-4daf-fa6a-38e7a137c8e1",
        "colab": {
          "base_uri": "https://localhost:8080/",
          "height": 189
        }
      },
      "source": [
        "from google.colab import drive\n",
        "drive.mount('/gdrive')\n"
      ],
      "execution_count": 0,
      "outputs": [
        {
          "output_type": "stream",
          "text": [
            "Go to this URL in a browser: https://accounts.google.com/o/oauth2/auth?client_id=947318989803-6bn6qk8qdgf4n4g3pfee6491hc0brc4i.apps.googleusercontent.com&redirect_uri=urn%3Aietf%3Awg%3Aoauth%3A2.0%3Aoob&scope=email%20https%3A%2F%2Fwww.googleapis.com%2Fauth%2Fdocs.test%20https%3A%2F%2Fwww.googleapis.com%2Fauth%2Fdrive%20https%3A%2F%2Fwww.googleapis.com%2Fauth%2Fdrive.photos.readonly%20https%3A%2F%2Fwww.googleapis.com%2Fauth%2Fpeopleapi.readonly&response_type=code\n",
            "\n",
            "Enter your authorization code:\n",
            "··········\n",
            "Mounted at /gdrive\n"
          ],
          "name": "stdout"
        }
      ]
    },
    {
      "cell_type": "code",
      "metadata": {
        "id": "7QoTF9MHXGSe",
        "colab_type": "code",
        "colab": {}
      },
      "source": [
        "# matplotlib imports\n",
        "import matplotlib\n",
        "import matplotlib.pyplot as plt\n",
        "# To plot pretty figures\n",
        "#plt.rc('figure', figsize=(10, 6))\n",
        "#plt.subplots(figsize=(10,6))\n",
        "plt.rcParams['axes.labelsize'] = 12\n",
        "plt.rcParams['xtick.labelsize'] = 12\n",
        "plt.rcParams['ytick.labelsize'] = 12\n",
        "%matplotlib inline\n",
        "\n",
        "# seaborn imports\n",
        "import seaborn as sns\n",
        "sns.set(color_codes=True)\n",
        "\n",
        "# bokeh imports\n",
        "from bokeh.io import output_file, output_notebook, show\n",
        "from bokeh.plotting import figure"
      ],
      "execution_count": 0,
      "outputs": []
    },
    {
      "cell_type": "code",
      "metadata": {
        "id": "YxB-PC3jokiy",
        "colab_type": "code",
        "colab": {}
      },
      "source": [
        "import pandas as pd\n",
        "import seaborn as sbs\n",
        "import numpy as np\n",
        "import matplotlib as plt\n"
      ],
      "execution_count": 0,
      "outputs": []
    },
    {
      "cell_type": "code",
      "metadata": {
        "id": "3MuG-pz7orGB",
        "colab_type": "code",
        "outputId": "27eed06e-c102-41c0-f437-e07934022191",
        "colab": {
          "base_uri": "https://localhost:8080/",
          "height": 346
        }
      },
      "source": [
        "# read data-frame\n",
        "df=pd.read_csv('/gdrive/My Drive/Data-Quality-Proj/KaggleV2-May-2016.csv')\n",
        "df.head()"
      ],
      "execution_count": 0,
      "outputs": [
        {
          "output_type": "execute_result",
          "data": {
            "text/html": [
              "<div>\n",
              "<style scoped>\n",
              "    .dataframe tbody tr th:only-of-type {\n",
              "        vertical-align: middle;\n",
              "    }\n",
              "\n",
              "    .dataframe tbody tr th {\n",
              "        vertical-align: top;\n",
              "    }\n",
              "\n",
              "    .dataframe thead th {\n",
              "        text-align: right;\n",
              "    }\n",
              "</style>\n",
              "<table border=\"1\" class=\"dataframe\">\n",
              "  <thead>\n",
              "    <tr style=\"text-align: right;\">\n",
              "      <th></th>\n",
              "      <th>PatientId</th>\n",
              "      <th>AppointmentID</th>\n",
              "      <th>Gender</th>\n",
              "      <th>ScheduledDay</th>\n",
              "      <th>AppointmentDay</th>\n",
              "      <th>Age</th>\n",
              "      <th>Neighbourhood</th>\n",
              "      <th>Scholarship</th>\n",
              "      <th>Hipertension</th>\n",
              "      <th>Diabetes</th>\n",
              "      <th>Alcoholism</th>\n",
              "      <th>Handcap</th>\n",
              "      <th>SMS_received</th>\n",
              "      <th>No-show</th>\n",
              "    </tr>\n",
              "  </thead>\n",
              "  <tbody>\n",
              "    <tr>\n",
              "      <th>0</th>\n",
              "      <td>2.987250e+13</td>\n",
              "      <td>5642903</td>\n",
              "      <td>F</td>\n",
              "      <td>2016-04-29T18:38:08Z</td>\n",
              "      <td>2016-04-29T00:00:00Z</td>\n",
              "      <td>62</td>\n",
              "      <td>JARDIM DA PENHA</td>\n",
              "      <td>0</td>\n",
              "      <td>1</td>\n",
              "      <td>0</td>\n",
              "      <td>0</td>\n",
              "      <td>0</td>\n",
              "      <td>0</td>\n",
              "      <td>No</td>\n",
              "    </tr>\n",
              "    <tr>\n",
              "      <th>1</th>\n",
              "      <td>5.589978e+14</td>\n",
              "      <td>5642503</td>\n",
              "      <td>M</td>\n",
              "      <td>2016-04-29T16:08:27Z</td>\n",
              "      <td>2016-04-29T00:00:00Z</td>\n",
              "      <td>56</td>\n",
              "      <td>JARDIM DA PENHA</td>\n",
              "      <td>0</td>\n",
              "      <td>0</td>\n",
              "      <td>0</td>\n",
              "      <td>0</td>\n",
              "      <td>0</td>\n",
              "      <td>0</td>\n",
              "      <td>No</td>\n",
              "    </tr>\n",
              "    <tr>\n",
              "      <th>2</th>\n",
              "      <td>4.262962e+12</td>\n",
              "      <td>5642549</td>\n",
              "      <td>F</td>\n",
              "      <td>2016-04-29T16:19:04Z</td>\n",
              "      <td>2016-04-29T00:00:00Z</td>\n",
              "      <td>62</td>\n",
              "      <td>MATA DA PRAIA</td>\n",
              "      <td>0</td>\n",
              "      <td>0</td>\n",
              "      <td>0</td>\n",
              "      <td>0</td>\n",
              "      <td>0</td>\n",
              "      <td>0</td>\n",
              "      <td>No</td>\n",
              "    </tr>\n",
              "    <tr>\n",
              "      <th>3</th>\n",
              "      <td>8.679512e+11</td>\n",
              "      <td>5642828</td>\n",
              "      <td>F</td>\n",
              "      <td>2016-04-29T17:29:31Z</td>\n",
              "      <td>2016-04-29T00:00:00Z</td>\n",
              "      <td>8</td>\n",
              "      <td>PONTAL DE CAMBURI</td>\n",
              "      <td>0</td>\n",
              "      <td>0</td>\n",
              "      <td>0</td>\n",
              "      <td>0</td>\n",
              "      <td>0</td>\n",
              "      <td>0</td>\n",
              "      <td>No</td>\n",
              "    </tr>\n",
              "    <tr>\n",
              "      <th>4</th>\n",
              "      <td>8.841186e+12</td>\n",
              "      <td>5642494</td>\n",
              "      <td>F</td>\n",
              "      <td>2016-04-29T16:07:23Z</td>\n",
              "      <td>2016-04-29T00:00:00Z</td>\n",
              "      <td>56</td>\n",
              "      <td>JARDIM DA PENHA</td>\n",
              "      <td>0</td>\n",
              "      <td>1</td>\n",
              "      <td>1</td>\n",
              "      <td>0</td>\n",
              "      <td>0</td>\n",
              "      <td>0</td>\n",
              "      <td>No</td>\n",
              "    </tr>\n",
              "  </tbody>\n",
              "</table>\n",
              "</div>"
            ],
            "text/plain": [
              "      PatientId  AppointmentID Gender          ScheduledDay  \\\n",
              "0  2.987250e+13        5642903      F  2016-04-29T18:38:08Z   \n",
              "1  5.589978e+14        5642503      M  2016-04-29T16:08:27Z   \n",
              "2  4.262962e+12        5642549      F  2016-04-29T16:19:04Z   \n",
              "3  8.679512e+11        5642828      F  2016-04-29T17:29:31Z   \n",
              "4  8.841186e+12        5642494      F  2016-04-29T16:07:23Z   \n",
              "\n",
              "         AppointmentDay  Age      Neighbourhood  Scholarship  Hipertension  \\\n",
              "0  2016-04-29T00:00:00Z   62    JARDIM DA PENHA            0             1   \n",
              "1  2016-04-29T00:00:00Z   56    JARDIM DA PENHA            0             0   \n",
              "2  2016-04-29T00:00:00Z   62      MATA DA PRAIA            0             0   \n",
              "3  2016-04-29T00:00:00Z    8  PONTAL DE CAMBURI            0             0   \n",
              "4  2016-04-29T00:00:00Z   56    JARDIM DA PENHA            0             1   \n",
              "\n",
              "   Diabetes  Alcoholism  Handcap  SMS_received No-show  \n",
              "0         0           0        0             0      No  \n",
              "1         0           0        0             0      No  \n",
              "2         0           0        0             0      No  \n",
              "3         0           0        0             0      No  \n",
              "4         1           0        0             0      No  "
            ]
          },
          "metadata": {
            "tags": []
          },
          "execution_count": 5
        }
      ]
    },
    {
      "cell_type": "code",
      "metadata": {
        "id": "wPlrXz_4o0My",
        "colab_type": "code",
        "outputId": "331e2993-c161-4572-a96c-1a3878d26432",
        "colab": {
          "base_uri": "https://localhost:8080/",
          "height": 272
        }
      },
      "source": [
        "# type of dataframe#\n",
        "df.dtypes\n"
      ],
      "execution_count": 0,
      "outputs": [
        {
          "output_type": "execute_result",
          "data": {
            "text/plain": [
              "PatientId         float64\n",
              "AppointmentID       int64\n",
              "Gender             object\n",
              "ScheduledDay       object\n",
              "AppointmentDay     object\n",
              "Age                 int64\n",
              "Neighbourhood      object\n",
              "Scholarship         int64\n",
              "Hipertension        int64\n",
              "Diabetes            int64\n",
              "Alcoholism          int64\n",
              "Handcap             int64\n",
              "SMS_received        int64\n",
              "No-show            object\n",
              "dtype: object"
            ]
          },
          "metadata": {
            "tags": []
          },
          "execution_count": 6
        }
      ]
    },
    {
      "cell_type": "code",
      "metadata": {
        "id": "1_2deft6Qgvf",
        "colab_type": "code",
        "outputId": "2237dcbd-c688-4d5b-9dee-df4f9f2fbc20",
        "colab": {
          "base_uri": "https://localhost:8080/",
          "height": 346
        }
      },
      "source": [
        "#droping patien ID\n",
        "df.drop(columns='PatientId',inplace=True)\n",
        "df.head()"
      ],
      "execution_count": 0,
      "outputs": [
        {
          "output_type": "execute_result",
          "data": {
            "text/html": [
              "<div>\n",
              "<style scoped>\n",
              "    .dataframe tbody tr th:only-of-type {\n",
              "        vertical-align: middle;\n",
              "    }\n",
              "\n",
              "    .dataframe tbody tr th {\n",
              "        vertical-align: top;\n",
              "    }\n",
              "\n",
              "    .dataframe thead th {\n",
              "        text-align: right;\n",
              "    }\n",
              "</style>\n",
              "<table border=\"1\" class=\"dataframe\">\n",
              "  <thead>\n",
              "    <tr style=\"text-align: right;\">\n",
              "      <th></th>\n",
              "      <th>AppointmentID</th>\n",
              "      <th>Gender</th>\n",
              "      <th>ScheduledDay</th>\n",
              "      <th>AppointmentDay</th>\n",
              "      <th>Age</th>\n",
              "      <th>Neighbourhood</th>\n",
              "      <th>Scholarship</th>\n",
              "      <th>Hipertension</th>\n",
              "      <th>Diabetes</th>\n",
              "      <th>Alcoholism</th>\n",
              "      <th>Handcap</th>\n",
              "      <th>SMS_received</th>\n",
              "      <th>No-show</th>\n",
              "    </tr>\n",
              "  </thead>\n",
              "  <tbody>\n",
              "    <tr>\n",
              "      <th>0</th>\n",
              "      <td>5642903</td>\n",
              "      <td>F</td>\n",
              "      <td>2016-04-29T18:38:08Z</td>\n",
              "      <td>2016-04-29T00:00:00Z</td>\n",
              "      <td>62</td>\n",
              "      <td>JARDIM DA PENHA</td>\n",
              "      <td>0</td>\n",
              "      <td>1</td>\n",
              "      <td>0</td>\n",
              "      <td>0</td>\n",
              "      <td>0</td>\n",
              "      <td>0</td>\n",
              "      <td>No</td>\n",
              "    </tr>\n",
              "    <tr>\n",
              "      <th>1</th>\n",
              "      <td>5642503</td>\n",
              "      <td>M</td>\n",
              "      <td>2016-04-29T16:08:27Z</td>\n",
              "      <td>2016-04-29T00:00:00Z</td>\n",
              "      <td>56</td>\n",
              "      <td>JARDIM DA PENHA</td>\n",
              "      <td>0</td>\n",
              "      <td>0</td>\n",
              "      <td>0</td>\n",
              "      <td>0</td>\n",
              "      <td>0</td>\n",
              "      <td>0</td>\n",
              "      <td>No</td>\n",
              "    </tr>\n",
              "    <tr>\n",
              "      <th>2</th>\n",
              "      <td>5642549</td>\n",
              "      <td>F</td>\n",
              "      <td>2016-04-29T16:19:04Z</td>\n",
              "      <td>2016-04-29T00:00:00Z</td>\n",
              "      <td>62</td>\n",
              "      <td>MATA DA PRAIA</td>\n",
              "      <td>0</td>\n",
              "      <td>0</td>\n",
              "      <td>0</td>\n",
              "      <td>0</td>\n",
              "      <td>0</td>\n",
              "      <td>0</td>\n",
              "      <td>No</td>\n",
              "    </tr>\n",
              "    <tr>\n",
              "      <th>3</th>\n",
              "      <td>5642828</td>\n",
              "      <td>F</td>\n",
              "      <td>2016-04-29T17:29:31Z</td>\n",
              "      <td>2016-04-29T00:00:00Z</td>\n",
              "      <td>8</td>\n",
              "      <td>PONTAL DE CAMBURI</td>\n",
              "      <td>0</td>\n",
              "      <td>0</td>\n",
              "      <td>0</td>\n",
              "      <td>0</td>\n",
              "      <td>0</td>\n",
              "      <td>0</td>\n",
              "      <td>No</td>\n",
              "    </tr>\n",
              "    <tr>\n",
              "      <th>4</th>\n",
              "      <td>5642494</td>\n",
              "      <td>F</td>\n",
              "      <td>2016-04-29T16:07:23Z</td>\n",
              "      <td>2016-04-29T00:00:00Z</td>\n",
              "      <td>56</td>\n",
              "      <td>JARDIM DA PENHA</td>\n",
              "      <td>0</td>\n",
              "      <td>1</td>\n",
              "      <td>1</td>\n",
              "      <td>0</td>\n",
              "      <td>0</td>\n",
              "      <td>0</td>\n",
              "      <td>No</td>\n",
              "    </tr>\n",
              "  </tbody>\n",
              "</table>\n",
              "</div>"
            ],
            "text/plain": [
              "   AppointmentID Gender          ScheduledDay        AppointmentDay  Age  \\\n",
              "0        5642903      F  2016-04-29T18:38:08Z  2016-04-29T00:00:00Z   62   \n",
              "1        5642503      M  2016-04-29T16:08:27Z  2016-04-29T00:00:00Z   56   \n",
              "2        5642549      F  2016-04-29T16:19:04Z  2016-04-29T00:00:00Z   62   \n",
              "3        5642828      F  2016-04-29T17:29:31Z  2016-04-29T00:00:00Z    8   \n",
              "4        5642494      F  2016-04-29T16:07:23Z  2016-04-29T00:00:00Z   56   \n",
              "\n",
              "       Neighbourhood  Scholarship  Hipertension  Diabetes  Alcoholism  \\\n",
              "0    JARDIM DA PENHA            0             1         0           0   \n",
              "1    JARDIM DA PENHA            0             0         0           0   \n",
              "2      MATA DA PRAIA            0             0         0           0   \n",
              "3  PONTAL DE CAMBURI            0             0         0           0   \n",
              "4    JARDIM DA PENHA            0             1         1           0   \n",
              "\n",
              "   Handcap  SMS_received No-show  \n",
              "0        0             0      No  \n",
              "1        0             0      No  \n",
              "2        0             0      No  \n",
              "3        0             0      No  \n",
              "4        0             0      No  "
            ]
          },
          "metadata": {
            "tags": []
          },
          "execution_count": 7
        }
      ]
    },
    {
      "cell_type": "code",
      "metadata": {
        "id": "Anell8LcRkRM",
        "colab_type": "code",
        "colab": {}
      },
      "source": [
        "# set the 'appointment id' column as an index\n",
        "df.set_index('AppointmentID',inplace=True)"
      ],
      "execution_count": 0,
      "outputs": []
    },
    {
      "cell_type": "code",
      "metadata": {
        "id": "0yxz_MG7RwRr",
        "colab_type": "code",
        "outputId": "a720fc51-05c2-45d9-8c01-268c4801ec0e",
        "colab": {
          "base_uri": "https://localhost:8080/",
          "height": 377
        }
      },
      "source": [
        "df.head()"
      ],
      "execution_count": 0,
      "outputs": [
        {
          "output_type": "execute_result",
          "data": {
            "text/html": [
              "<div>\n",
              "<style scoped>\n",
              "    .dataframe tbody tr th:only-of-type {\n",
              "        vertical-align: middle;\n",
              "    }\n",
              "\n",
              "    .dataframe tbody tr th {\n",
              "        vertical-align: top;\n",
              "    }\n",
              "\n",
              "    .dataframe thead th {\n",
              "        text-align: right;\n",
              "    }\n",
              "</style>\n",
              "<table border=\"1\" class=\"dataframe\">\n",
              "  <thead>\n",
              "    <tr style=\"text-align: right;\">\n",
              "      <th></th>\n",
              "      <th>Gender</th>\n",
              "      <th>ScheduledDay</th>\n",
              "      <th>AppointmentDay</th>\n",
              "      <th>Age</th>\n",
              "      <th>Neighbourhood</th>\n",
              "      <th>Scholarship</th>\n",
              "      <th>Hipertension</th>\n",
              "      <th>Diabetes</th>\n",
              "      <th>Alcoholism</th>\n",
              "      <th>Handcap</th>\n",
              "      <th>SMS_received</th>\n",
              "      <th>No-show</th>\n",
              "    </tr>\n",
              "    <tr>\n",
              "      <th>AppointmentID</th>\n",
              "      <th></th>\n",
              "      <th></th>\n",
              "      <th></th>\n",
              "      <th></th>\n",
              "      <th></th>\n",
              "      <th></th>\n",
              "      <th></th>\n",
              "      <th></th>\n",
              "      <th></th>\n",
              "      <th></th>\n",
              "      <th></th>\n",
              "      <th></th>\n",
              "    </tr>\n",
              "  </thead>\n",
              "  <tbody>\n",
              "    <tr>\n",
              "      <th>5642903</th>\n",
              "      <td>F</td>\n",
              "      <td>2016-04-29T18:38:08Z</td>\n",
              "      <td>2016-04-29T00:00:00Z</td>\n",
              "      <td>62</td>\n",
              "      <td>JARDIM DA PENHA</td>\n",
              "      <td>0</td>\n",
              "      <td>1</td>\n",
              "      <td>0</td>\n",
              "      <td>0</td>\n",
              "      <td>0</td>\n",
              "      <td>0</td>\n",
              "      <td>No</td>\n",
              "    </tr>\n",
              "    <tr>\n",
              "      <th>5642503</th>\n",
              "      <td>M</td>\n",
              "      <td>2016-04-29T16:08:27Z</td>\n",
              "      <td>2016-04-29T00:00:00Z</td>\n",
              "      <td>56</td>\n",
              "      <td>JARDIM DA PENHA</td>\n",
              "      <td>0</td>\n",
              "      <td>0</td>\n",
              "      <td>0</td>\n",
              "      <td>0</td>\n",
              "      <td>0</td>\n",
              "      <td>0</td>\n",
              "      <td>No</td>\n",
              "    </tr>\n",
              "    <tr>\n",
              "      <th>5642549</th>\n",
              "      <td>F</td>\n",
              "      <td>2016-04-29T16:19:04Z</td>\n",
              "      <td>2016-04-29T00:00:00Z</td>\n",
              "      <td>62</td>\n",
              "      <td>MATA DA PRAIA</td>\n",
              "      <td>0</td>\n",
              "      <td>0</td>\n",
              "      <td>0</td>\n",
              "      <td>0</td>\n",
              "      <td>0</td>\n",
              "      <td>0</td>\n",
              "      <td>No</td>\n",
              "    </tr>\n",
              "    <tr>\n",
              "      <th>5642828</th>\n",
              "      <td>F</td>\n",
              "      <td>2016-04-29T17:29:31Z</td>\n",
              "      <td>2016-04-29T00:00:00Z</td>\n",
              "      <td>8</td>\n",
              "      <td>PONTAL DE CAMBURI</td>\n",
              "      <td>0</td>\n",
              "      <td>0</td>\n",
              "      <td>0</td>\n",
              "      <td>0</td>\n",
              "      <td>0</td>\n",
              "      <td>0</td>\n",
              "      <td>No</td>\n",
              "    </tr>\n",
              "    <tr>\n",
              "      <th>5642494</th>\n",
              "      <td>F</td>\n",
              "      <td>2016-04-29T16:07:23Z</td>\n",
              "      <td>2016-04-29T00:00:00Z</td>\n",
              "      <td>56</td>\n",
              "      <td>JARDIM DA PENHA</td>\n",
              "      <td>0</td>\n",
              "      <td>1</td>\n",
              "      <td>1</td>\n",
              "      <td>0</td>\n",
              "      <td>0</td>\n",
              "      <td>0</td>\n",
              "      <td>No</td>\n",
              "    </tr>\n",
              "  </tbody>\n",
              "</table>\n",
              "</div>"
            ],
            "text/plain": [
              "              Gender          ScheduledDay        AppointmentDay  Age  \\\n",
              "AppointmentID                                                           \n",
              "5642903            F  2016-04-29T18:38:08Z  2016-04-29T00:00:00Z   62   \n",
              "5642503            M  2016-04-29T16:08:27Z  2016-04-29T00:00:00Z   56   \n",
              "5642549            F  2016-04-29T16:19:04Z  2016-04-29T00:00:00Z   62   \n",
              "5642828            F  2016-04-29T17:29:31Z  2016-04-29T00:00:00Z    8   \n",
              "5642494            F  2016-04-29T16:07:23Z  2016-04-29T00:00:00Z   56   \n",
              "\n",
              "                   Neighbourhood  Scholarship  Hipertension  Diabetes  \\\n",
              "AppointmentID                                                           \n",
              "5642903          JARDIM DA PENHA            0             1         0   \n",
              "5642503          JARDIM DA PENHA            0             0         0   \n",
              "5642549            MATA DA PRAIA            0             0         0   \n",
              "5642828        PONTAL DE CAMBURI            0             0         0   \n",
              "5642494          JARDIM DA PENHA            0             1         1   \n",
              "\n",
              "               Alcoholism  Handcap  SMS_received No-show  \n",
              "AppointmentID                                             \n",
              "5642903                 0        0             0      No  \n",
              "5642503                 0        0             0      No  \n",
              "5642549                 0        0             0      No  \n",
              "5642828                 0        0             0      No  \n",
              "5642494                 0        0             0      No  "
            ]
          },
          "metadata": {
            "tags": []
          },
          "execution_count": 9
        }
      ]
    },
    {
      "cell_type": "code",
      "metadata": {
        "id": "HJHbQrfepUxa",
        "colab_type": "code",
        "colab": {}
      },
      "source": [
        "# converting ScheduledDay and AppointmentDay to datetime format\n",
        "from datetime import datetime\n",
        "df['ScheduledDay'] =  pd.to_datetime(df['ScheduledDay'],\n",
        "                              format='%Y-%m-%d')\n",
        "df['AppointmentDay'] =  pd.to_datetime(df['AppointmentDay'],\n",
        "                               format='%Y-%m-%d')"
      ],
      "execution_count": 0,
      "outputs": []
    },
    {
      "cell_type": "code",
      "metadata": {
        "id": "otAHRnbApjPh",
        "colab_type": "code",
        "outputId": "11a81efb-d6bc-4ec5-c87e-b2b9c93322ad",
        "colab": {
          "base_uri": "https://localhost:8080/",
          "height": 238
        }
      },
      "source": [
        "df.dtypes"
      ],
      "execution_count": 0,
      "outputs": [
        {
          "output_type": "execute_result",
          "data": {
            "text/plain": [
              "Gender                         object\n",
              "ScheduledDay      datetime64[ns, UTC]\n",
              "AppointmentDay    datetime64[ns, UTC]\n",
              "Age                             int64\n",
              "Neighbourhood                  object\n",
              "Scholarship                     int64\n",
              "Hipertension                    int64\n",
              "Diabetes                        int64\n",
              "Alcoholism                      int64\n",
              "Handcap                         int64\n",
              "SMS_received                    int64\n",
              "No-show                        object\n",
              "dtype: object"
            ]
          },
          "metadata": {
            "tags": []
          },
          "execution_count": 11
        }
      ]
    },
    {
      "cell_type": "code",
      "metadata": {
        "id": "6J7G4HRaprzD",
        "colab_type": "code",
        "colab": {}
      },
      "source": [
        "# calculating Gap time and only extractng the day, and removing time stamp\n",
        "df['Gap_Time'] =(df['AppointmentDay']-df['ScheduledDay']).dt.days"
      ],
      "execution_count": 0,
      "outputs": []
    },
    {
      "cell_type": "code",
      "metadata": {
        "id": "gag668gmSJZg",
        "colab_type": "code",
        "outputId": "226bc5a8-918b-4b16-b35d-4a55211dc6e8",
        "colab": {
          "base_uri": "https://localhost:8080/",
          "height": 377
        }
      },
      "source": [
        "df.head()"
      ],
      "execution_count": 0,
      "outputs": [
        {
          "output_type": "execute_result",
          "data": {
            "text/html": [
              "<div>\n",
              "<style scoped>\n",
              "    .dataframe tbody tr th:only-of-type {\n",
              "        vertical-align: middle;\n",
              "    }\n",
              "\n",
              "    .dataframe tbody tr th {\n",
              "        vertical-align: top;\n",
              "    }\n",
              "\n",
              "    .dataframe thead th {\n",
              "        text-align: right;\n",
              "    }\n",
              "</style>\n",
              "<table border=\"1\" class=\"dataframe\">\n",
              "  <thead>\n",
              "    <tr style=\"text-align: right;\">\n",
              "      <th></th>\n",
              "      <th>Gender</th>\n",
              "      <th>ScheduledDay</th>\n",
              "      <th>AppointmentDay</th>\n",
              "      <th>Age</th>\n",
              "      <th>Neighbourhood</th>\n",
              "      <th>Scholarship</th>\n",
              "      <th>Hipertension</th>\n",
              "      <th>Diabetes</th>\n",
              "      <th>Alcoholism</th>\n",
              "      <th>Handcap</th>\n",
              "      <th>SMS_received</th>\n",
              "      <th>No-show</th>\n",
              "      <th>Gap_Time</th>\n",
              "    </tr>\n",
              "    <tr>\n",
              "      <th>AppointmentID</th>\n",
              "      <th></th>\n",
              "      <th></th>\n",
              "      <th></th>\n",
              "      <th></th>\n",
              "      <th></th>\n",
              "      <th></th>\n",
              "      <th></th>\n",
              "      <th></th>\n",
              "      <th></th>\n",
              "      <th></th>\n",
              "      <th></th>\n",
              "      <th></th>\n",
              "      <th></th>\n",
              "    </tr>\n",
              "  </thead>\n",
              "  <tbody>\n",
              "    <tr>\n",
              "      <th>5642903</th>\n",
              "      <td>F</td>\n",
              "      <td>2016-04-29 18:38:08+00:00</td>\n",
              "      <td>2016-04-29 00:00:00+00:00</td>\n",
              "      <td>62</td>\n",
              "      <td>JARDIM DA PENHA</td>\n",
              "      <td>0</td>\n",
              "      <td>1</td>\n",
              "      <td>0</td>\n",
              "      <td>0</td>\n",
              "      <td>0</td>\n",
              "      <td>0</td>\n",
              "      <td>No</td>\n",
              "      <td>-1</td>\n",
              "    </tr>\n",
              "    <tr>\n",
              "      <th>5642503</th>\n",
              "      <td>M</td>\n",
              "      <td>2016-04-29 16:08:27+00:00</td>\n",
              "      <td>2016-04-29 00:00:00+00:00</td>\n",
              "      <td>56</td>\n",
              "      <td>JARDIM DA PENHA</td>\n",
              "      <td>0</td>\n",
              "      <td>0</td>\n",
              "      <td>0</td>\n",
              "      <td>0</td>\n",
              "      <td>0</td>\n",
              "      <td>0</td>\n",
              "      <td>No</td>\n",
              "      <td>-1</td>\n",
              "    </tr>\n",
              "    <tr>\n",
              "      <th>5642549</th>\n",
              "      <td>F</td>\n",
              "      <td>2016-04-29 16:19:04+00:00</td>\n",
              "      <td>2016-04-29 00:00:00+00:00</td>\n",
              "      <td>62</td>\n",
              "      <td>MATA DA PRAIA</td>\n",
              "      <td>0</td>\n",
              "      <td>0</td>\n",
              "      <td>0</td>\n",
              "      <td>0</td>\n",
              "      <td>0</td>\n",
              "      <td>0</td>\n",
              "      <td>No</td>\n",
              "      <td>-1</td>\n",
              "    </tr>\n",
              "    <tr>\n",
              "      <th>5642828</th>\n",
              "      <td>F</td>\n",
              "      <td>2016-04-29 17:29:31+00:00</td>\n",
              "      <td>2016-04-29 00:00:00+00:00</td>\n",
              "      <td>8</td>\n",
              "      <td>PONTAL DE CAMBURI</td>\n",
              "      <td>0</td>\n",
              "      <td>0</td>\n",
              "      <td>0</td>\n",
              "      <td>0</td>\n",
              "      <td>0</td>\n",
              "      <td>0</td>\n",
              "      <td>No</td>\n",
              "      <td>-1</td>\n",
              "    </tr>\n",
              "    <tr>\n",
              "      <th>5642494</th>\n",
              "      <td>F</td>\n",
              "      <td>2016-04-29 16:07:23+00:00</td>\n",
              "      <td>2016-04-29 00:00:00+00:00</td>\n",
              "      <td>56</td>\n",
              "      <td>JARDIM DA PENHA</td>\n",
              "      <td>0</td>\n",
              "      <td>1</td>\n",
              "      <td>1</td>\n",
              "      <td>0</td>\n",
              "      <td>0</td>\n",
              "      <td>0</td>\n",
              "      <td>No</td>\n",
              "      <td>-1</td>\n",
              "    </tr>\n",
              "  </tbody>\n",
              "</table>\n",
              "</div>"
            ],
            "text/plain": [
              "              Gender              ScheduledDay            AppointmentDay  Age  \\\n",
              "AppointmentID                                                                   \n",
              "5642903            F 2016-04-29 18:38:08+00:00 2016-04-29 00:00:00+00:00   62   \n",
              "5642503            M 2016-04-29 16:08:27+00:00 2016-04-29 00:00:00+00:00   56   \n",
              "5642549            F 2016-04-29 16:19:04+00:00 2016-04-29 00:00:00+00:00   62   \n",
              "5642828            F 2016-04-29 17:29:31+00:00 2016-04-29 00:00:00+00:00    8   \n",
              "5642494            F 2016-04-29 16:07:23+00:00 2016-04-29 00:00:00+00:00   56   \n",
              "\n",
              "                   Neighbourhood  Scholarship  Hipertension  Diabetes  \\\n",
              "AppointmentID                                                           \n",
              "5642903          JARDIM DA PENHA            0             1         0   \n",
              "5642503          JARDIM DA PENHA            0             0         0   \n",
              "5642549            MATA DA PRAIA            0             0         0   \n",
              "5642828        PONTAL DE CAMBURI            0             0         0   \n",
              "5642494          JARDIM DA PENHA            0             1         1   \n",
              "\n",
              "               Alcoholism  Handcap  SMS_received No-show  Gap_Time  \n",
              "AppointmentID                                                       \n",
              "5642903                 0        0             0      No        -1  \n",
              "5642503                 0        0             0      No        -1  \n",
              "5642549                 0        0             0      No        -1  \n",
              "5642828                 0        0             0      No        -1  \n",
              "5642494                 0        0             0      No        -1  "
            ]
          },
          "metadata": {
            "tags": []
          },
          "execution_count": 13
        }
      ]
    },
    {
      "cell_type": "code",
      "metadata": {
        "id": "6K8FB811SO6k",
        "colab_type": "code",
        "outputId": "8520b595-d74a-4b0d-f5e0-658e775f9fde",
        "colab": {
          "base_uri": "https://localhost:8080/",
          "height": 255
        }
      },
      "source": [
        "df.dtypes"
      ],
      "execution_count": 0,
      "outputs": [
        {
          "output_type": "execute_result",
          "data": {
            "text/plain": [
              "Gender                         object\n",
              "ScheduledDay      datetime64[ns, UTC]\n",
              "AppointmentDay    datetime64[ns, UTC]\n",
              "Age                             int64\n",
              "Neighbourhood                  object\n",
              "Scholarship                     int64\n",
              "Hipertension                    int64\n",
              "Diabetes                        int64\n",
              "Alcoholism                      int64\n",
              "Handcap                         int64\n",
              "SMS_received                    int64\n",
              "No-show                        object\n",
              "Gap_Time                        int64\n",
              "dtype: object"
            ]
          },
          "metadata": {
            "tags": []
          },
          "execution_count": 14
        }
      ]
    },
    {
      "cell_type": "code",
      "metadata": {
        "id": "QVVNffwOtsKd",
        "colab_type": "code",
        "outputId": "43db11e7-a0a5-4557-e849-4cf7d64cf365",
        "colab": {
          "base_uri": "https://localhost:8080/",
          "height": 34
        }
      },
      "source": [
        "df.Age.min()"
      ],
      "execution_count": 0,
      "outputs": [
        {
          "output_type": "execute_result",
          "data": {
            "text/plain": [
              "-1"
            ]
          },
          "metadata": {
            "tags": []
          },
          "execution_count": 15
        }
      ]
    },
    {
      "cell_type": "code",
      "metadata": {
        "id": "TCobGaAjtyOq",
        "colab_type": "code",
        "outputId": "51f0db9d-f115-4c1b-9989-c85dc4140c4d",
        "colab": {
          "base_uri": "https://localhost:8080/",
          "height": 34
        }
      },
      "source": [
        "df.Age.max()"
      ],
      "execution_count": 0,
      "outputs": [
        {
          "output_type": "execute_result",
          "data": {
            "text/plain": [
              "115"
            ]
          },
          "metadata": {
            "tags": []
          },
          "execution_count": 16
        }
      ]
    },
    {
      "cell_type": "code",
      "metadata": {
        "id": "MoM6nwaWSc4P",
        "colab_type": "code",
        "colab": {}
      },
      "source": [
        "#defining labels for different  age, and adding new column 'Age_cat\"\n",
        "bins = [-2, 2, 10, 17, 30, 50, 116]\n",
        "labels=[\"Infant\",\"Child\",\"Teenager\",\"Young adults\", \"Adult\",\"Elder\"]\n",
        "age_cat = pd.cut(df.Age,bins,labels=labels)\n",
        "df['Age_cat'] = age_cat"
      ],
      "execution_count": 0,
      "outputs": []
    },
    {
      "cell_type": "code",
      "metadata": {
        "id": "_fT5lRk8ptk2",
        "colab_type": "code",
        "outputId": "bc4720ba-364e-4ad5-921c-93c313b94eab",
        "colab": {
          "base_uri": "https://localhost:8080/",
          "height": 34
        }
      },
      "source": [
        "df.Gap_Time.min()"
      ],
      "execution_count": 0,
      "outputs": [
        {
          "output_type": "execute_result",
          "data": {
            "text/plain": [
              "-7"
            ]
          },
          "metadata": {
            "tags": []
          },
          "execution_count": 18
        }
      ]
    },
    {
      "cell_type": "code",
      "metadata": {
        "id": "aGJM-YkZUSKV",
        "colab_type": "code",
        "outputId": "63a6ce77-de0f-46e7-8583-4cbb35c00f20",
        "colab": {
          "base_uri": "https://localhost:8080/",
          "height": 34
        }
      },
      "source": [
        "df.Gap_Time.max()"
      ],
      "execution_count": 0,
      "outputs": [
        {
          "output_type": "execute_result",
          "data": {
            "text/plain": [
              "178"
            ]
          },
          "metadata": {
            "tags": []
          },
          "execution_count": 19
        }
      ]
    },
    {
      "cell_type": "code",
      "metadata": {
        "id": "5G1lPfGfXF2X",
        "colab_type": "code",
        "colab": {}
      },
      "source": [
        "# defining labels for different cattegories in gap_time, and adding new column=\"wait_period\"\n",
        "bins = [-8,10,30,60,90,110,140,179]\n",
        "labels = [\"Immediate\", \"3Week\", \"2month\", \n",
        "          \"3month\", \"4month\", \"Half year\", \"More than 6 month\"]\n",
        "df['wait_period'] = pd.cut(df.Gap_Time, bins, labels=labels)"
      ],
      "execution_count": 0,
      "outputs": []
    },
    {
      "cell_type": "code",
      "metadata": {
        "id": "2KS-hPscaYiv",
        "colab_type": "code",
        "outputId": "4ae82606-d240-4343-baef-8568603f4cd9",
        "colab": {
          "base_uri": "https://localhost:8080/",
          "height": 34
        }
      },
      "source": [
        "df.head()\n",
        "df.shape"
      ],
      "execution_count": 0,
      "outputs": [
        {
          "output_type": "execute_result",
          "data": {
            "text/plain": [
              "(110527, 15)"
            ]
          },
          "metadata": {
            "tags": []
          },
          "execution_count": 21
        }
      ]
    },
    {
      "cell_type": "code",
      "metadata": {
        "id": "QfhceAWvbdW1",
        "colab_type": "code",
        "colab": {}
      },
      "source": [
        "# extracting day of appoinment\n",
        "df['day_of_Appointment'] = df['AppointmentDay'].dt.day_name()"
      ],
      "execution_count": 0,
      "outputs": []
    },
    {
      "cell_type": "code",
      "metadata": {
        "id": "ftSeazTtbgS7",
        "colab_type": "code",
        "outputId": "b264776a-07fb-489f-f625-b8f22de7f25e",
        "colab": {
          "base_uri": "https://localhost:8080/",
          "height": 377
        }
      },
      "source": [
        "df.head()"
      ],
      "execution_count": 0,
      "outputs": [
        {
          "output_type": "execute_result",
          "data": {
            "text/html": [
              "<div>\n",
              "<style scoped>\n",
              "    .dataframe tbody tr th:only-of-type {\n",
              "        vertical-align: middle;\n",
              "    }\n",
              "\n",
              "    .dataframe tbody tr th {\n",
              "        vertical-align: top;\n",
              "    }\n",
              "\n",
              "    .dataframe thead th {\n",
              "        text-align: right;\n",
              "    }\n",
              "</style>\n",
              "<table border=\"1\" class=\"dataframe\">\n",
              "  <thead>\n",
              "    <tr style=\"text-align: right;\">\n",
              "      <th></th>\n",
              "      <th>Gender</th>\n",
              "      <th>ScheduledDay</th>\n",
              "      <th>AppointmentDay</th>\n",
              "      <th>Age</th>\n",
              "      <th>Neighbourhood</th>\n",
              "      <th>Scholarship</th>\n",
              "      <th>Hipertension</th>\n",
              "      <th>Diabetes</th>\n",
              "      <th>Alcoholism</th>\n",
              "      <th>Handcap</th>\n",
              "      <th>SMS_received</th>\n",
              "      <th>No-show</th>\n",
              "      <th>Gap_Time</th>\n",
              "      <th>Age_cat</th>\n",
              "      <th>wait_period</th>\n",
              "      <th>day_of_Appointment</th>\n",
              "    </tr>\n",
              "    <tr>\n",
              "      <th>AppointmentID</th>\n",
              "      <th></th>\n",
              "      <th></th>\n",
              "      <th></th>\n",
              "      <th></th>\n",
              "      <th></th>\n",
              "      <th></th>\n",
              "      <th></th>\n",
              "      <th></th>\n",
              "      <th></th>\n",
              "      <th></th>\n",
              "      <th></th>\n",
              "      <th></th>\n",
              "      <th></th>\n",
              "      <th></th>\n",
              "      <th></th>\n",
              "      <th></th>\n",
              "    </tr>\n",
              "  </thead>\n",
              "  <tbody>\n",
              "    <tr>\n",
              "      <th>5642903</th>\n",
              "      <td>F</td>\n",
              "      <td>2016-04-29 18:38:08+00:00</td>\n",
              "      <td>2016-04-29 00:00:00+00:00</td>\n",
              "      <td>62</td>\n",
              "      <td>JARDIM DA PENHA</td>\n",
              "      <td>0</td>\n",
              "      <td>1</td>\n",
              "      <td>0</td>\n",
              "      <td>0</td>\n",
              "      <td>0</td>\n",
              "      <td>0</td>\n",
              "      <td>No</td>\n",
              "      <td>-1</td>\n",
              "      <td>Elder</td>\n",
              "      <td>Immediate</td>\n",
              "      <td>Friday</td>\n",
              "    </tr>\n",
              "    <tr>\n",
              "      <th>5642503</th>\n",
              "      <td>M</td>\n",
              "      <td>2016-04-29 16:08:27+00:00</td>\n",
              "      <td>2016-04-29 00:00:00+00:00</td>\n",
              "      <td>56</td>\n",
              "      <td>JARDIM DA PENHA</td>\n",
              "      <td>0</td>\n",
              "      <td>0</td>\n",
              "      <td>0</td>\n",
              "      <td>0</td>\n",
              "      <td>0</td>\n",
              "      <td>0</td>\n",
              "      <td>No</td>\n",
              "      <td>-1</td>\n",
              "      <td>Elder</td>\n",
              "      <td>Immediate</td>\n",
              "      <td>Friday</td>\n",
              "    </tr>\n",
              "    <tr>\n",
              "      <th>5642549</th>\n",
              "      <td>F</td>\n",
              "      <td>2016-04-29 16:19:04+00:00</td>\n",
              "      <td>2016-04-29 00:00:00+00:00</td>\n",
              "      <td>62</td>\n",
              "      <td>MATA DA PRAIA</td>\n",
              "      <td>0</td>\n",
              "      <td>0</td>\n",
              "      <td>0</td>\n",
              "      <td>0</td>\n",
              "      <td>0</td>\n",
              "      <td>0</td>\n",
              "      <td>No</td>\n",
              "      <td>-1</td>\n",
              "      <td>Elder</td>\n",
              "      <td>Immediate</td>\n",
              "      <td>Friday</td>\n",
              "    </tr>\n",
              "    <tr>\n",
              "      <th>5642828</th>\n",
              "      <td>F</td>\n",
              "      <td>2016-04-29 17:29:31+00:00</td>\n",
              "      <td>2016-04-29 00:00:00+00:00</td>\n",
              "      <td>8</td>\n",
              "      <td>PONTAL DE CAMBURI</td>\n",
              "      <td>0</td>\n",
              "      <td>0</td>\n",
              "      <td>0</td>\n",
              "      <td>0</td>\n",
              "      <td>0</td>\n",
              "      <td>0</td>\n",
              "      <td>No</td>\n",
              "      <td>-1</td>\n",
              "      <td>Child</td>\n",
              "      <td>Immediate</td>\n",
              "      <td>Friday</td>\n",
              "    </tr>\n",
              "    <tr>\n",
              "      <th>5642494</th>\n",
              "      <td>F</td>\n",
              "      <td>2016-04-29 16:07:23+00:00</td>\n",
              "      <td>2016-04-29 00:00:00+00:00</td>\n",
              "      <td>56</td>\n",
              "      <td>JARDIM DA PENHA</td>\n",
              "      <td>0</td>\n",
              "      <td>1</td>\n",
              "      <td>1</td>\n",
              "      <td>0</td>\n",
              "      <td>0</td>\n",
              "      <td>0</td>\n",
              "      <td>No</td>\n",
              "      <td>-1</td>\n",
              "      <td>Elder</td>\n",
              "      <td>Immediate</td>\n",
              "      <td>Friday</td>\n",
              "    </tr>\n",
              "  </tbody>\n",
              "</table>\n",
              "</div>"
            ],
            "text/plain": [
              "              Gender              ScheduledDay            AppointmentDay  Age  \\\n",
              "AppointmentID                                                                   \n",
              "5642903            F 2016-04-29 18:38:08+00:00 2016-04-29 00:00:00+00:00   62   \n",
              "5642503            M 2016-04-29 16:08:27+00:00 2016-04-29 00:00:00+00:00   56   \n",
              "5642549            F 2016-04-29 16:19:04+00:00 2016-04-29 00:00:00+00:00   62   \n",
              "5642828            F 2016-04-29 17:29:31+00:00 2016-04-29 00:00:00+00:00    8   \n",
              "5642494            F 2016-04-29 16:07:23+00:00 2016-04-29 00:00:00+00:00   56   \n",
              "\n",
              "                   Neighbourhood  Scholarship  Hipertension  Diabetes  \\\n",
              "AppointmentID                                                           \n",
              "5642903          JARDIM DA PENHA            0             1         0   \n",
              "5642503          JARDIM DA PENHA            0             0         0   \n",
              "5642549            MATA DA PRAIA            0             0         0   \n",
              "5642828        PONTAL DE CAMBURI            0             0         0   \n",
              "5642494          JARDIM DA PENHA            0             1         1   \n",
              "\n",
              "               Alcoholism  Handcap  SMS_received No-show  Gap_Time Age_cat  \\\n",
              "AppointmentID                                                                \n",
              "5642903                 0        0             0      No        -1   Elder   \n",
              "5642503                 0        0             0      No        -1   Elder   \n",
              "5642549                 0        0             0      No        -1   Elder   \n",
              "5642828                 0        0             0      No        -1   Child   \n",
              "5642494                 0        0             0      No        -1   Elder   \n",
              "\n",
              "              wait_period day_of_Appointment  \n",
              "AppointmentID                                 \n",
              "5642903         Immediate             Friday  \n",
              "5642503         Immediate             Friday  \n",
              "5642549         Immediate             Friday  \n",
              "5642828         Immediate             Friday  \n",
              "5642494         Immediate             Friday  "
            ]
          },
          "metadata": {
            "tags": []
          },
          "execution_count": 23
        }
      ]
    },
    {
      "cell_type": "code",
      "metadata": {
        "id": "Xe67OrjctZEC",
        "colab_type": "code",
        "outputId": "44588cde-546b-4f23-da06-862d0f5f05f4",
        "colab": {
          "base_uri": "https://localhost:8080/",
          "height": 374
        }
      },
      "source": [
        "df.info()"
      ],
      "execution_count": 0,
      "outputs": [
        {
          "output_type": "stream",
          "text": [
            "<class 'pandas.core.frame.DataFrame'>\n",
            "Int64Index: 110527 entries, 5642903 to 5629448\n",
            "Data columns (total 16 columns):\n",
            "Gender                110527 non-null object\n",
            "ScheduledDay          110527 non-null datetime64[ns, UTC]\n",
            "AppointmentDay        110527 non-null datetime64[ns, UTC]\n",
            "Age                   110527 non-null int64\n",
            "Neighbourhood         110527 non-null object\n",
            "Scholarship           110527 non-null int64\n",
            "Hipertension          110527 non-null int64\n",
            "Diabetes              110527 non-null int64\n",
            "Alcoholism            110527 non-null int64\n",
            "Handcap               110527 non-null int64\n",
            "SMS_received          110527 non-null int64\n",
            "No-show               110527 non-null object\n",
            "Gap_Time              110527 non-null int64\n",
            "Age_cat               110527 non-null category\n",
            "wait_period           110527 non-null category\n",
            "day_of_Appointment    110527 non-null object\n",
            "dtypes: category(2), datetime64[ns, UTC](2), int64(8), object(4)\n",
            "memory usage: 12.9+ MB\n"
          ],
          "name": "stdout"
        }
      ]
    },
    {
      "cell_type": "code",
      "metadata": {
        "id": "0XGN-gLJtnM5",
        "colab_type": "code",
        "outputId": "a5bd0fb7-fa0d-4145-9509-02c8fdf48a90",
        "colab": {
          "base_uri": "https://localhost:8080/",
          "height": 297
        }
      },
      "source": [
        "df.describe()"
      ],
      "execution_count": 0,
      "outputs": [
        {
          "output_type": "execute_result",
          "data": {
            "text/html": [
              "<div>\n",
              "<style scoped>\n",
              "    .dataframe tbody tr th:only-of-type {\n",
              "        vertical-align: middle;\n",
              "    }\n",
              "\n",
              "    .dataframe tbody tr th {\n",
              "        vertical-align: top;\n",
              "    }\n",
              "\n",
              "    .dataframe thead th {\n",
              "        text-align: right;\n",
              "    }\n",
              "</style>\n",
              "<table border=\"1\" class=\"dataframe\">\n",
              "  <thead>\n",
              "    <tr style=\"text-align: right;\">\n",
              "      <th></th>\n",
              "      <th>Age</th>\n",
              "      <th>Scholarship</th>\n",
              "      <th>Hipertension</th>\n",
              "      <th>Diabetes</th>\n",
              "      <th>Alcoholism</th>\n",
              "      <th>Handcap</th>\n",
              "      <th>SMS_received</th>\n",
              "      <th>Gap_Time</th>\n",
              "    </tr>\n",
              "  </thead>\n",
              "  <tbody>\n",
              "    <tr>\n",
              "      <th>count</th>\n",
              "      <td>110527.000000</td>\n",
              "      <td>110527.000000</td>\n",
              "      <td>110527.000000</td>\n",
              "      <td>110527.000000</td>\n",
              "      <td>110527.000000</td>\n",
              "      <td>110527.000000</td>\n",
              "      <td>110527.000000</td>\n",
              "      <td>110527.000000</td>\n",
              "    </tr>\n",
              "    <tr>\n",
              "      <th>mean</th>\n",
              "      <td>37.088874</td>\n",
              "      <td>0.098266</td>\n",
              "      <td>0.197246</td>\n",
              "      <td>0.071865</td>\n",
              "      <td>0.030400</td>\n",
              "      <td>0.022248</td>\n",
              "      <td>0.321026</td>\n",
              "      <td>9.183702</td>\n",
              "    </tr>\n",
              "    <tr>\n",
              "      <th>std</th>\n",
              "      <td>23.110205</td>\n",
              "      <td>0.297675</td>\n",
              "      <td>0.397921</td>\n",
              "      <td>0.258265</td>\n",
              "      <td>0.171686</td>\n",
              "      <td>0.161543</td>\n",
              "      <td>0.466873</td>\n",
              "      <td>15.254996</td>\n",
              "    </tr>\n",
              "    <tr>\n",
              "      <th>min</th>\n",
              "      <td>-1.000000</td>\n",
              "      <td>0.000000</td>\n",
              "      <td>0.000000</td>\n",
              "      <td>0.000000</td>\n",
              "      <td>0.000000</td>\n",
              "      <td>0.000000</td>\n",
              "      <td>0.000000</td>\n",
              "      <td>-7.000000</td>\n",
              "    </tr>\n",
              "    <tr>\n",
              "      <th>25%</th>\n",
              "      <td>18.000000</td>\n",
              "      <td>0.000000</td>\n",
              "      <td>0.000000</td>\n",
              "      <td>0.000000</td>\n",
              "      <td>0.000000</td>\n",
              "      <td>0.000000</td>\n",
              "      <td>0.000000</td>\n",
              "      <td>-1.000000</td>\n",
              "    </tr>\n",
              "    <tr>\n",
              "      <th>50%</th>\n",
              "      <td>37.000000</td>\n",
              "      <td>0.000000</td>\n",
              "      <td>0.000000</td>\n",
              "      <td>0.000000</td>\n",
              "      <td>0.000000</td>\n",
              "      <td>0.000000</td>\n",
              "      <td>0.000000</td>\n",
              "      <td>3.000000</td>\n",
              "    </tr>\n",
              "    <tr>\n",
              "      <th>75%</th>\n",
              "      <td>55.000000</td>\n",
              "      <td>0.000000</td>\n",
              "      <td>0.000000</td>\n",
              "      <td>0.000000</td>\n",
              "      <td>0.000000</td>\n",
              "      <td>0.000000</td>\n",
              "      <td>1.000000</td>\n",
              "      <td>14.000000</td>\n",
              "    </tr>\n",
              "    <tr>\n",
              "      <th>max</th>\n",
              "      <td>115.000000</td>\n",
              "      <td>1.000000</td>\n",
              "      <td>1.000000</td>\n",
              "      <td>1.000000</td>\n",
              "      <td>1.000000</td>\n",
              "      <td>4.000000</td>\n",
              "      <td>1.000000</td>\n",
              "      <td>178.000000</td>\n",
              "    </tr>\n",
              "  </tbody>\n",
              "</table>\n",
              "</div>"
            ],
            "text/plain": [
              "                 Age    Scholarship   Hipertension       Diabetes  \\\n",
              "count  110527.000000  110527.000000  110527.000000  110527.000000   \n",
              "mean       37.088874       0.098266       0.197246       0.071865   \n",
              "std        23.110205       0.297675       0.397921       0.258265   \n",
              "min        -1.000000       0.000000       0.000000       0.000000   \n",
              "25%        18.000000       0.000000       0.000000       0.000000   \n",
              "50%        37.000000       0.000000       0.000000       0.000000   \n",
              "75%        55.000000       0.000000       0.000000       0.000000   \n",
              "max       115.000000       1.000000       1.000000       1.000000   \n",
              "\n",
              "          Alcoholism        Handcap   SMS_received       Gap_Time  \n",
              "count  110527.000000  110527.000000  110527.000000  110527.000000  \n",
              "mean        0.030400       0.022248       0.321026       9.183702  \n",
              "std         0.171686       0.161543       0.466873      15.254996  \n",
              "min         0.000000       0.000000       0.000000      -7.000000  \n",
              "25%         0.000000       0.000000       0.000000      -1.000000  \n",
              "50%         0.000000       0.000000       0.000000       3.000000  \n",
              "75%         0.000000       0.000000       1.000000      14.000000  \n",
              "max         1.000000       4.000000       1.000000     178.000000  "
            ]
          },
          "metadata": {
            "tags": []
          },
          "execution_count": 25
        }
      ]
    },
    {
      "cell_type": "code",
      "metadata": {
        "id": "jUrRzJHBuYvl",
        "colab_type": "code",
        "outputId": "71090670-2fd5-40bf-9967-10ac1be1d5dc",
        "colab": {
          "base_uri": "https://localhost:8080/",
          "height": 297
        }
      },
      "source": [
        "#finindg corrolation between variables\n",
        "df.corr()"
      ],
      "execution_count": 0,
      "outputs": [
        {
          "output_type": "execute_result",
          "data": {
            "text/html": [
              "<div>\n",
              "<style scoped>\n",
              "    .dataframe tbody tr th:only-of-type {\n",
              "        vertical-align: middle;\n",
              "    }\n",
              "\n",
              "    .dataframe tbody tr th {\n",
              "        vertical-align: top;\n",
              "    }\n",
              "\n",
              "    .dataframe thead th {\n",
              "        text-align: right;\n",
              "    }\n",
              "</style>\n",
              "<table border=\"1\" class=\"dataframe\">\n",
              "  <thead>\n",
              "    <tr style=\"text-align: right;\">\n",
              "      <th></th>\n",
              "      <th>Age</th>\n",
              "      <th>Scholarship</th>\n",
              "      <th>Hipertension</th>\n",
              "      <th>Diabetes</th>\n",
              "      <th>Alcoholism</th>\n",
              "      <th>Handcap</th>\n",
              "      <th>SMS_received</th>\n",
              "      <th>Gap_Time</th>\n",
              "    </tr>\n",
              "  </thead>\n",
              "  <tbody>\n",
              "    <tr>\n",
              "      <th>Age</th>\n",
              "      <td>1.000000</td>\n",
              "      <td>-0.092457</td>\n",
              "      <td>0.504586</td>\n",
              "      <td>0.292391</td>\n",
              "      <td>0.095811</td>\n",
              "      <td>0.078033</td>\n",
              "      <td>0.012643</td>\n",
              "      <td>0.034820</td>\n",
              "    </tr>\n",
              "    <tr>\n",
              "      <th>Scholarship</th>\n",
              "      <td>-0.092457</td>\n",
              "      <td>1.000000</td>\n",
              "      <td>-0.019729</td>\n",
              "      <td>-0.024894</td>\n",
              "      <td>0.035022</td>\n",
              "      <td>-0.008586</td>\n",
              "      <td>0.001194</td>\n",
              "      <td>-0.030421</td>\n",
              "    </tr>\n",
              "    <tr>\n",
              "      <th>Hipertension</th>\n",
              "      <td>0.504586</td>\n",
              "      <td>-0.019729</td>\n",
              "      <td>1.000000</td>\n",
              "      <td>0.433086</td>\n",
              "      <td>0.087971</td>\n",
              "      <td>0.080083</td>\n",
              "      <td>-0.006267</td>\n",
              "      <td>-0.017215</td>\n",
              "    </tr>\n",
              "    <tr>\n",
              "      <th>Diabetes</th>\n",
              "      <td>0.292391</td>\n",
              "      <td>-0.024894</td>\n",
              "      <td>0.433086</td>\n",
              "      <td>1.000000</td>\n",
              "      <td>0.018474</td>\n",
              "      <td>0.057530</td>\n",
              "      <td>-0.014550</td>\n",
              "      <td>-0.027188</td>\n",
              "    </tr>\n",
              "    <tr>\n",
              "      <th>Alcoholism</th>\n",
              "      <td>0.095811</td>\n",
              "      <td>0.035022</td>\n",
              "      <td>0.087971</td>\n",
              "      <td>0.018474</td>\n",
              "      <td>1.000000</td>\n",
              "      <td>0.004648</td>\n",
              "      <td>-0.026147</td>\n",
              "      <td>-0.038519</td>\n",
              "    </tr>\n",
              "    <tr>\n",
              "      <th>Handcap</th>\n",
              "      <td>0.078033</td>\n",
              "      <td>-0.008586</td>\n",
              "      <td>0.080083</td>\n",
              "      <td>0.057530</td>\n",
              "      <td>0.004648</td>\n",
              "      <td>1.000000</td>\n",
              "      <td>-0.024161</td>\n",
              "      <td>-0.019843</td>\n",
              "    </tr>\n",
              "    <tr>\n",
              "      <th>SMS_received</th>\n",
              "      <td>0.012643</td>\n",
              "      <td>0.001194</td>\n",
              "      <td>-0.006267</td>\n",
              "      <td>-0.014550</td>\n",
              "      <td>-0.026147</td>\n",
              "      <td>-0.024161</td>\n",
              "      <td>1.000000</td>\n",
              "      <td>0.398145</td>\n",
              "    </tr>\n",
              "    <tr>\n",
              "      <th>Gap_Time</th>\n",
              "      <td>0.034820</td>\n",
              "      <td>-0.030421</td>\n",
              "      <td>-0.017215</td>\n",
              "      <td>-0.027188</td>\n",
              "      <td>-0.038519</td>\n",
              "      <td>-0.019843</td>\n",
              "      <td>0.398145</td>\n",
              "      <td>1.000000</td>\n",
              "    </tr>\n",
              "  </tbody>\n",
              "</table>\n",
              "</div>"
            ],
            "text/plain": [
              "                   Age  Scholarship  Hipertension  Diabetes  Alcoholism  \\\n",
              "Age           1.000000    -0.092457      0.504586  0.292391    0.095811   \n",
              "Scholarship  -0.092457     1.000000     -0.019729 -0.024894    0.035022   \n",
              "Hipertension  0.504586    -0.019729      1.000000  0.433086    0.087971   \n",
              "Diabetes      0.292391    -0.024894      0.433086  1.000000    0.018474   \n",
              "Alcoholism    0.095811     0.035022      0.087971  0.018474    1.000000   \n",
              "Handcap       0.078033    -0.008586      0.080083  0.057530    0.004648   \n",
              "SMS_received  0.012643     0.001194     -0.006267 -0.014550   -0.026147   \n",
              "Gap_Time      0.034820    -0.030421     -0.017215 -0.027188   -0.038519   \n",
              "\n",
              "               Handcap  SMS_received  Gap_Time  \n",
              "Age           0.078033      0.012643  0.034820  \n",
              "Scholarship  -0.008586      0.001194 -0.030421  \n",
              "Hipertension  0.080083     -0.006267 -0.017215  \n",
              "Diabetes      0.057530     -0.014550 -0.027188  \n",
              "Alcoholism    0.004648     -0.026147 -0.038519  \n",
              "Handcap       1.000000     -0.024161 -0.019843  \n",
              "SMS_received -0.024161      1.000000  0.398145  \n",
              "Gap_Time     -0.019843      0.398145  1.000000  "
            ]
          },
          "metadata": {
            "tags": []
          },
          "execution_count": 26
        }
      ]
    },
    {
      "cell_type": "code",
      "metadata": {
        "id": "jZgJphrbuwZb",
        "colab_type": "code",
        "outputId": "2520494f-887a-4842-8303-3024ef86199b",
        "colab": {
          "base_uri": "https://localhost:8080/",
          "height": 358
        }
      },
      "source": [
        "# creating corrolation heatmap between variables:\n",
        "corr = df.corr()\n",
        "sbs.heatmap(corr, \n",
        "            xticklabels=corr.columns.values,\n",
        "            yticklabels=corr.columns.values)"
      ],
      "execution_count": 0,
      "outputs": [
        {
          "output_type": "execute_result",
          "data": {
            "text/plain": [
              "<matplotlib.axes._subplots.AxesSubplot at 0x7f93ed68e080>"
            ]
          },
          "metadata": {
            "tags": []
          },
          "execution_count": 27
        },
        {
          "output_type": "display_data",
          "data": {
            "image/png": "[encoded data removed]",
            "text/plain": [
              "<Figure size 432x288 with 2 Axes>"
            ]
          },
          "metadata": {
            "tags": []
          }
        }
      ]
    },
    {
      "cell_type": "code",
      "metadata": {
        "id": "XZjRaOy6bwNJ",
        "colab_type": "code",
        "outputId": "d3996a72-4069-4239-df25-b7fa683c5008",
        "colab": {
          "base_uri": "https://localhost:8080/",
          "height": 274
        }
      },
      "source": [
        "#visualizing the numbers of shows vs no shows people\n",
        "groups = df.groupby(['No-show'])\n",
        "gps = groups.size()\n",
        "ax = sbs.barplot(x=gps.index.tolist(), y=gps.values)"
      ],
      "execution_count": 0,
      "outputs": [
        {
          "output_type": "display_data",
          "data": {
            "image/png": "[encoded data removed]",
            "text/plain": [
              "<Figure size 432x288 with 1 Axes>"
            ]
          },
          "metadata": {
            "tags": []
          }
        }
      ]
    },
    {
      "cell_type": "code",
      "metadata": {
        "id": "HR1l8Q6RXsUe",
        "colab_type": "code",
        "colab": {}
      },
      "source": [
        "sns.set(rc={'figure.figsize':(11.7,8.27)})"
      ],
      "execution_count": 0,
      "outputs": []
    },
    {
      "cell_type": "code",
      "metadata": {
        "id": "LovHgMo-mA_U",
        "colab_type": "code",
        "outputId": "fca0dd10-bda6-4788-ba1c-b67a4bdeeea6",
        "colab": {
          "base_uri": "https://localhost:8080/",
          "height": 523
        }
      },
      "source": [
        "# visualizing the distribution of 'Waite_period'\n",
        "groups = df.groupby(['wait_period'])\n",
        "gps = groups.size()\n",
        "sns.barplot(x=gps.index.tolist(), y=gps.values)"
      ],
      "execution_count": 0,
      "outputs": [
        {
          "output_type": "execute_result",
          "data": {
            "text/plain": [
              "<matplotlib.axes._subplots.AxesSubplot at 0x7f93e9ac1c50>"
            ]
          },
          "metadata": {
            "tags": []
          },
          "execution_count": 30
        },
        {
          "output_type": "display_data",
          "data": {
            "image/png": "[encoded data removed]",
            "text/plain": [
              "<Figure size 842.4x595.44 with 1 Axes>"
            ]
          },
          "metadata": {
            "tags": []
          }
        }
      ]
    },
    {
      "cell_type": "code",
      "metadata": {
        "id": "7aqA1YAUm2AW",
        "colab_type": "code",
        "outputId": "d6fcca27-7e65-44f3-e5b4-accf80f8a8b0",
        "colab": {
          "base_uri": "https://localhost:8080/",
          "height": 523
        }
      },
      "source": [
        "# visualizing the distribution of day_of_Appointment\n",
        "groups = df.groupby(['day_of_Appointment'])\n",
        "gps = groups.size()\n",
        "sbs.barplot(x=gps.index.tolist(), y=gps.values)\n",
        "\n"
      ],
      "execution_count": 0,
      "outputs": [
        {
          "output_type": "execute_result",
          "data": {
            "text/plain": [
              "<matplotlib.axes._subplots.AxesSubplot at 0x7f93e9a1f908>"
            ]
          },
          "metadata": {
            "tags": []
          },
          "execution_count": 31
        },
        {
          "output_type": "display_data",
          "data": {
            "image/png": "[encoded data removed]",
            "text/plain": [
              "<Figure size 842.4x595.44 with 1 Axes>"
            ]
          },
          "metadata": {
            "tags": []
          }
        }
      ]
    },
    {
      "cell_type": "code",
      "metadata": {
        "id": "Rs_tj09G3tX1",
        "colab_type": "code",
        "outputId": "117b111c-a193-434d-dba9-62e5bcf308b1",
        "colab": {
          "base_uri": "https://localhost:8080/",
          "height": 540
        }
      },
      "source": [
        "# visualizing people who recive text message and show-up for their appoinment based on 'day_of_Appointmen'\n",
        "sbs.barplot(x='day_of_Appointment',y='SMS_received',hue='No-show',data=df)"
      ],
      "execution_count": 0,
      "outputs": [
        {
          "output_type": "execute_result",
          "data": {
            "text/plain": [
              "<matplotlib.axes._subplots.AxesSubplot at 0x7f93e9a0a7b8>"
            ]
          },
          "metadata": {
            "tags": []
          },
          "execution_count": 32
        },
        {
          "output_type": "display_data",
          "data": {
            "image/png": "[encoded data removed]",
            "text/plain": [
              "<Figure size 842.4x595.44 with 1 Axes>"
            ]
          },
          "metadata": {
            "tags": []
          }
        }
      ]
    },
    {
      "cell_type": "code",
      "metadata": {
        "id": "5cieWkg8HGwR",
        "colab_type": "code",
        "colab": {}
      },
      "source": [
        "# save the final dataset to new csv file\n",
        "df.to_csv(r'/gdrive/My Drive/Data-Quality-Proj/sana_data.csv',index=None,header=True)"
      ],
      "execution_count": 0,
      "outputs": []
    },
    {
      "cell_type": "code",
      "metadata": {
        "id": "W5cK1QU3YuoI",
        "colab_type": "code",
        "outputId": "5e919c5d-de91-4c49-d717-0eb5a453a596",
        "colab": {
          "base_uri": "https://localhost:8080/",
          "height": 102
        }
      },
      "source": [
        "df.columns"
      ],
      "execution_count": 0,
      "outputs": [
        {
          "output_type": "execute_result",
          "data": {
            "text/plain": [
              "Index(['Gender', 'ScheduledDay', 'AppointmentDay', 'Age', 'Neighbourhood',\n",
              "       'Scholarship', 'Hipertension', 'Diabetes', 'Alcoholism', 'Handcap',\n",
              "       'SMS_received', 'No-show', 'Gap_Time', 'Age_cat', 'wait_period',\n",
              "       'day_of_Appointment'],\n",
              "      dtype='object')"
            ]
          },
          "metadata": {
            "tags": []
          },
          "execution_count": 34
        }
      ]
    },
    {
      "cell_type": "code",
      "metadata": {
        "id": "d3k3_GMSZ54N",
        "colab_type": "code",
        "colab": {}
      },
      "source": [
        "import matplotlib.pyplot as plt"
      ],
      "execution_count": 0,
      "outputs": []
    },
    {
      "cell_type": "code",
      "metadata": {
        "id": "b4yiaok8X9At",
        "colab_type": "code",
        "outputId": "15ef8acc-b307-4719-ec59-053ca6dde5d3",
        "colab": {
          "base_uri": "https://localhost:8080/",
          "height": 533
        }
      },
      "source": [
        "# visualizing Show/NoShow for pation who usnig Scholarship\n",
        "ax = sns.countplot(x=df['Scholarship'], hue=df['No-show'], data=df)\n",
        "ax.set_title(\"Show/NoShow for Scholarship\")\n",
        "x_ticks_labels=['No Scholarship', 'Scholarship']\n",
        "ax.set_xticklabels(x_ticks_labels)\n",
        "plt.show()"
      ],
      "execution_count": 0,
      "outputs": [
        {
          "output_type": "display_data",
          "data": {
            "image/png": "[encoded data removed]",
            "text/plain": [
              "<Figure size 842.4x595.44 with 1 Axes>"
            ]
          },
          "metadata": {
            "tags": []
          }
        }
      ]
    },
    {
      "cell_type": "code",
      "metadata": {
        "id": "Ha4LrYmweH_v",
        "colab_type": "code",
        "outputId": "5b48a71e-44d7-47c4-ddef-4f8b5449abec",
        "colab": {
          "base_uri": "https://localhost:8080/",
          "height": 550
        }
      },
      "source": [
        "# visualizing Show/NoShow based on gender\n",
        "ax = sns.countplot(x=df.Gender, hue=df['No-show'], data=df)\n",
        "ax.set_title(\"Show/NoShow for Females and Males\")\n",
        "x_ticks_labels=['Female', 'Male']\n",
        "ax.set_xticklabels(x_ticks_labels)"
      ],
      "execution_count": 0,
      "outputs": [
        {
          "output_type": "execute_result",
          "data": {
            "text/plain": [
              "[Text(0, 0, 'Female'), Text(0, 0, 'Male')]"
            ]
          },
          "metadata": {
            "tags": []
          },
          "execution_count": 37
        },
        {
          "output_type": "display_data",
          "data": {
            "image/png": "[encoded data removed]",
            "text/plain": [
              "<Figure size 842.4x595.44 with 1 Axes>"
            ]
          },
          "metadata": {
            "tags": []
          }
        }
      ]
    },
    {
      "cell_type": "code",
      "metadata": {
        "id": "m3jH91PcX8uo",
        "colab_type": "code",
        "outputId": "1683f199-df38-4471-99cb-f3baaa060602",
        "colab": {
          "base_uri": "https://localhost:8080/",
          "height": 550
        }
      },
      "source": [
        "# visualizing Show/NoShow for pationt who has diabates\n",
        "ax = sns.countplot(x=df.Diabetes, hue=df['No-show'], data=df)\n",
        "ax.set_title(\"Show/NoShow for Diabetes\")\n",
        "x_ticks_labels=['No Diabetes', 'Diabetes']\n",
        "ax.set_xticklabels(x_ticks_labels)"
      ],
      "execution_count": 0,
      "outputs": [
        {
          "output_type": "execute_result",
          "data": {
            "text/plain": [
              "[Text(0, 0, 'No Diabetes'), Text(0, 0, 'Diabetes')]"
            ]
          },
          "metadata": {
            "tags": []
          },
          "execution_count": 38
        },
        {
          "output_type": "display_data",
          "data": {
            "image/png": "[encoded data removed]",
            "text/plain": [
              "<Figure size 842.4x595.44 with 1 Axes>"
            ]
          },
          "metadata": {
            "tags": []
          }
        }
      ]
    },
    {
      "cell_type": "code",
      "metadata": {
        "id": "zbCnRt5Ze_Dh",
        "colab_type": "code",
        "outputId": "644f638e-0b67-4f2d-f132-515a902de895",
        "colab": {
          "base_uri": "https://localhost:8080/",
          "height": 550
        }
      },
      "source": [
        "# visualizing Show/NoShow for pationt who are alcoholics\n",
        "ax = sns.countplot(x=df.Alcoholism, hue=df['No-show'], data=df)\n",
        "ax.set_title(\"Show/NoShow for Alcoholism\")\n",
        "x_ticks_labels=['No Alcoholism', 'Alcoholism']\n",
        "ax.set_xticklabels(x_ticks_labels)\n",
        "\n"
      ],
      "execution_count": 0,
      "outputs": [
        {
          "output_type": "execute_result",
          "data": {
            "text/plain": [
              "[Text(0, 0, 'No Alcoholism'), Text(0, 0, 'Alcoholism')]"
            ]
          },
          "metadata": {
            "tags": []
          },
          "execution_count": 39
        },
        {
          "output_type": "display_data",
          "data": {
            "image/png": "[encoded data removed]",
            "text/plain": [
              "<Figure size 842.4x595.44 with 1 Axes>"
            ]
          },
          "metadata": {
            "tags": []
          }
        }
      ]
    },
    {
      "cell_type": "code",
      "metadata": {
        "id": "-qRWAT4ggK64",
        "colab_type": "code",
        "colab": {}
      },
      "source": [
        "Day_of_week=['Monday','Tuesday','Wednesday','Thursday','Friday']"
      ],
      "execution_count": 0,
      "outputs": []
    },
    {
      "cell_type": "code",
      "metadata": {
        "id": "oky_LDv8BiLH",
        "colab_type": "code",
        "outputId": "aa6c999c-fa22-4c3d-ea75-520f701514a8",
        "colab": {
          "base_uri": "https://localhost:8080/",
          "height": 102
        }
      },
      "source": [
        "df.columns"
      ],
      "execution_count": 0,
      "outputs": [
        {
          "output_type": "execute_result",
          "data": {
            "text/plain": [
              "Index(['Gender', 'ScheduledDay', 'AppointmentDay', 'Age', 'Neighbourhood',\n",
              "       'Scholarship', 'Hipertension', 'Diabetes', 'Alcoholism', 'Handcap',\n",
              "       'SMS_received', 'No-show', 'Gap_Time', 'Age_cat', 'wait_period',\n",
              "       'day_of_Appointment'],\n",
              "      dtype='object')"
            ]
          },
          "metadata": {
            "tags": []
          },
          "execution_count": 41
        }
      ]
    },
    {
      "cell_type": "code",
      "metadata": {
        "id": "wRydQu7_fj3E",
        "colab_type": "code",
        "outputId": "d94e3ed6-7f1f-48b7-87fc-81bae1e1f297",
        "colab": {
          "base_uri": "https://localhost:8080/",
          "height": 301
        }
      },
      "source": [
        "# showing number of appointment in each day of a week\n",
        "plt.figure(figsize=(16,4))\n",
        "ax = sns.countplot(x=df.day_of_Appointment,order= Day_of_week)\n",
        "ax.set_title(\"Appointment Count for Scheduled Day of Week\")\n",
        "plt.show()"
      ],
      "execution_count": 0,
      "outputs": [
        {
          "output_type": "display_data",
          "data": {
            "image/png": "[encoded data removed]",
            "text/plain": [
              "<Figure size 1152x288 with 1 Axes>"
            ]
          },
          "metadata": {
            "tags": []
          }
        }
      ]
    },
    {
      "cell_type": "code",
      "metadata": {
        "id": "-E-FesyTg-AA",
        "colab_type": "code",
        "outputId": "80b975f9-c9ad-45e3-8aa0-76b22caba426",
        "colab": {
          "base_uri": "https://localhost:8080/",
          "height": 301
        }
      },
      "source": [
        "# Showing in each day of a week we have how many show or no show\n",
        "plt.figure(figsize=(16,4))\n",
        "ax = sns.countplot(x=df.day_of_Appointment, hue=df['No-show'], order=Day_of_week)\n",
        "ax.set_title(\"Show/NoShow for Appointment Day of the Week\")\n",
        "plt.show()"
      ],
      "execution_count": 0,
      "outputs": [
        {
          "output_type": "display_data",
          "data": {
            "image/png": "[encoded data removed]",
            "text/plain": [
              "<Figure size 1152x288 with 1 Axes>"
            ]
          },
          "metadata": {
            "tags": []
          }
        }
      ]
    },
    {
      "cell_type": "code",
      "metadata": {
        "id": "OaAOiwaGhvDI",
        "colab_type": "code",
        "outputId": "4e73aaa3-f662-4e41-876f-84237383e935",
        "colab": {
          "base_uri": "https://localhost:8080/",
          "height": 301
        }
      },
      "source": [
        "#showing distribution of Gap_time\n",
        "plt.figure(figsize=(16,4))\n",
        "ax = sns.countplot(x=df.Gap_Time, order=df.Gap_Time.value_counts().iloc[:55].index)\n",
        "ax.set_title(\"Waiting Time in Days (Descending Order)\")\n",
        "plt.show()"
      ],
      "execution_count": 0,
      "outputs": [
        {
          "output_type": "display_data",
          "data": {
            "image/png": "[encoded data removed]",
            "text/plain": [
              "<Figure size 1152x288 with 1 Axes>"
            ]
          },
          "metadata": {
            "tags": []
          }
        }
      ]
    },
    {
      "cell_type": "code",
      "metadata": {
        "id": "TEJIe9aGiRrc",
        "colab_type": "code",
        "outputId": "6edbb4f0-04da-4e10-97af-af63fa311e39",
        "colab": {
          "base_uri": "https://localhost:8080/",
          "height": 102
        }
      },
      "source": [
        "df.columns"
      ],
      "execution_count": 0,
      "outputs": [
        {
          "output_type": "execute_result",
          "data": {
            "text/plain": [
              "Index(['Gender', 'ScheduledDay', 'AppointmentDay', 'Age', 'Neighbourhood',\n",
              "       'Scholarship', 'Hipertension', 'Diabetes', 'Alcoholism', 'Handcap',\n",
              "       'SMS_received', 'No-show', 'Gap_Time', 'Age_cat', 'wait_period',\n",
              "       'day_of_Appointment'],\n",
              "      dtype='object')"
            ]
          },
          "metadata": {
            "tags": []
          },
          "execution_count": 119
        }
      ]
    },
    {
      "cell_type": "markdown",
      "metadata": {
        "id": "J_w0jDt28Yx-",
        "colab_type": "text"
      },
      "source": [
        "## PCA"
      ]
    },
    {
      "cell_type": "code",
      "metadata": {
        "id": "1t_0zI9MhmJG",
        "colab_type": "code",
        "colab": {}
      },
      "source": [
        "#selecting only numerical columns to perform PCA\n",
        "df_pca=df[['Age','Gap_Time']]"
      ],
      "execution_count": 0,
      "outputs": []
    },
    {
      "cell_type": "code",
      "metadata": {
        "id": "zQL0C4oXiAdi",
        "colab_type": "code",
        "outputId": "8485727e-46ae-452d-8708-c289ccb60e88",
        "colab": {
          "base_uri": "https://localhost:8080/",
          "height": 125
        }
      },
      "source": [
        "#scaling data\n",
        "from sklearn.preprocessing import StandardScaler\n",
        "scaler=StandardScaler()\n",
        "scaler.fit(df_pca)\n",
        "new_scaled=scaler.transform(df_pca)"
      ],
      "execution_count": 0,
      "outputs": [
        {
          "output_type": "stream",
          "text": [
            "/usr/local/lib/python3.6/dist-packages/sklearn/preprocessing/data.py:645: DataConversionWarning: Data with input dtype int64 were all converted to float64 by StandardScaler.\n",
            "  return self.partial_fit(X, y)\n",
            "/usr/local/lib/python3.6/dist-packages/ipykernel_launcher.py:4: DataConversionWarning: Data with input dtype int64 were all converted to float64 by StandardScaler.\n",
            "  after removing the cwd from sys.path.\n"
          ],
          "name": "stderr"
        }
      ]
    },
    {
      "cell_type": "code",
      "metadata": {
        "id": "waVGkB7viIVX",
        "colab_type": "code",
        "outputId": "0b3e5a1f-31f8-4d95-869c-61ed48cd797e",
        "colab": {
          "base_uri": "https://localhost:8080/",
          "height": 204
        }
      },
      "source": [
        "\n",
        "df_new_scaled = pd.DataFrame(new_scaled, columns = df_pca.columns.to_list())\n",
        "df_new_scaled.head()"
      ],
      "execution_count": 0,
      "outputs": [
        {
          "output_type": "execute_result",
          "data": {
            "text/html": [
              "<div>\n",
              "<style scoped>\n",
              "    .dataframe tbody tr th:only-of-type {\n",
              "        vertical-align: middle;\n",
              "    }\n",
              "\n",
              "    .dataframe tbody tr th {\n",
              "        vertical-align: top;\n",
              "    }\n",
              "\n",
              "    .dataframe thead th {\n",
              "        text-align: right;\n",
              "    }\n",
              "</style>\n",
              "<table border=\"1\" class=\"dataframe\">\n",
              "  <thead>\n",
              "    <tr style=\"text-align: right;\">\n",
              "      <th></th>\n",
              "      <th>Age</th>\n",
              "      <th>Gap_Time</th>\n",
              "    </tr>\n",
              "  </thead>\n",
              "  <tbody>\n",
              "    <tr>\n",
              "      <th>0</th>\n",
              "      <td>1.077932</td>\n",
              "      <td>-0.667568</td>\n",
              "    </tr>\n",
              "    <tr>\n",
              "      <th>1</th>\n",
              "      <td>0.818306</td>\n",
              "      <td>-0.667568</td>\n",
              "    </tr>\n",
              "    <tr>\n",
              "      <th>2</th>\n",
              "      <td>1.077932</td>\n",
              "      <td>-0.667568</td>\n",
              "    </tr>\n",
              "    <tr>\n",
              "      <th>3</th>\n",
              "      <td>-1.258708</td>\n",
              "      <td>-0.667568</td>\n",
              "    </tr>\n",
              "    <tr>\n",
              "      <th>4</th>\n",
              "      <td>0.818306</td>\n",
              "      <td>-0.667568</td>\n",
              "    </tr>\n",
              "  </tbody>\n",
              "</table>\n",
              "</div>"
            ],
            "text/plain": [
              "        Age  Gap_Time\n",
              "0  1.077932 -0.667568\n",
              "1  0.818306 -0.667568\n",
              "2  1.077932 -0.667568\n",
              "3 -1.258708 -0.667568\n",
              "4  0.818306 -0.667568"
            ]
          },
          "metadata": {
            "tags": []
          },
          "execution_count": 124
        }
      ]
    },
    {
      "cell_type": "code",
      "metadata": {
        "id": "A5L_-C0Vh1j1",
        "colab_type": "code",
        "outputId": "49a58099-b793-4a1c-8c4c-1b7b086744e6",
        "colab": {
          "base_uri": "https://localhost:8080/",
          "height": 34
        }
      },
      "source": [
        "#now applying PCA method:\n",
        "from sklearn.decomposition import PCA\n",
        "\n",
        "pca = PCA(n_components=2)\n",
        "\n",
        "pca.fit(df_new_scaled.values) \n",
        "\n",
        "arr_new_pca = pca.transform(df_new_scaled.values) \n",
        "\n",
        "#let's check the shape of df_new_pca array\n",
        "print(\"shape of arr_new_pca\", arr_new_pca.shape)"
      ],
      "execution_count": 0,
      "outputs": [
        {
          "output_type": "stream",
          "text": [
            "shape of arr_new_pca (110527, 2)\n"
          ],
          "name": "stdout"
        }
      ]
    },
    {
      "cell_type": "code",
      "metadata": {
        "id": "TqSnU7PniwOc",
        "colab_type": "code",
        "outputId": "c29bd4b5-1749-49aa-ff7a-131e1372b12f",
        "colab": {
          "base_uri": "https://localhost:8080/",
          "height": 34
        }
      },
      "source": [
        "elements=[\"Z1\", \"Z2\"]\n",
        "len(elements)"
      ],
      "execution_count": 0,
      "outputs": [
        {
          "output_type": "execute_result",
          "data": {
            "text/plain": [
              "2"
            ]
          },
          "metadata": {
            "tags": []
          },
          "execution_count": 127
        }
      ]
    },
    {
      "cell_type": "code",
      "metadata": {
        "id": "OuBVs-7ji52z",
        "colab_type": "code",
        "outputId": "127a92a4-5c92-442b-9c36-cd3afdd42027",
        "colab": {
          "base_uri": "https://localhost:8080/",
          "height": 111
        }
      },
      "source": [
        "pca_df = pd.DataFrame(pca.components_, columns = elements,index=df_pca.columns.to_list())\n",
        "pca_df"
      ],
      "execution_count": 0,
      "outputs": [
        {
          "output_type": "execute_result",
          "data": {
            "text/html": [
              "<div>\n",
              "<style scoped>\n",
              "    .dataframe tbody tr th:only-of-type {\n",
              "        vertical-align: middle;\n",
              "    }\n",
              "\n",
              "    .dataframe tbody tr th {\n",
              "        vertical-align: top;\n",
              "    }\n",
              "\n",
              "    .dataframe thead th {\n",
              "        text-align: right;\n",
              "    }\n",
              "</style>\n",
              "<table border=\"1\" class=\"dataframe\">\n",
              "  <thead>\n",
              "    <tr style=\"text-align: right;\">\n",
              "      <th></th>\n",
              "      <th>Z1</th>\n",
              "      <th>Z2</th>\n",
              "    </tr>\n",
              "  </thead>\n",
              "  <tbody>\n",
              "    <tr>\n",
              "      <th>Age</th>\n",
              "      <td>0.707107</td>\n",
              "      <td>0.707107</td>\n",
              "    </tr>\n",
              "    <tr>\n",
              "      <th>Gap_Time</th>\n",
              "      <td>-0.707107</td>\n",
              "      <td>0.707107</td>\n",
              "    </tr>\n",
              "  </tbody>\n",
              "</table>\n",
              "</div>"
            ],
            "text/plain": [
              "                Z1        Z2\n",
              "Age       0.707107  0.707107\n",
              "Gap_Time -0.707107  0.707107"
            ]
          },
          "metadata": {
            "tags": []
          },
          "execution_count": 130
        }
      ]
    },
    {
      "cell_type": "code",
      "metadata": {
        "id": "ZwkN7RiejBcS",
        "colab_type": "code",
        "colab": {}
      },
      "source": [
        "pca_exp_var = pd.DataFrame(pca.explained_variance_, index = elements, columns = [\"variance\"])\n",
        "\n"
      ],
      "execution_count": 0,
      "outputs": []
    },
    {
      "cell_type": "code",
      "metadata": {
        "id": "5YEcTXimjG_z",
        "colab_type": "code",
        "colab": {}
      },
      "source": [
        "pca_percent_exp_var = pd.DataFrame(pca.explained_variance_ratio_ * 100, index = elements, columns = [\"% variance\"])"
      ],
      "execution_count": 0,
      "outputs": []
    },
    {
      "cell_type": "code",
      "metadata": {
        "id": "qezLpxPWjJ2x",
        "colab_type": "code",
        "outputId": "0b758eb9-c4e3-43d8-fd0a-edc040c3c078",
        "colab": {
          "base_uri": "https://localhost:8080/",
          "height": 111
        }
      },
      "source": [
        "pca_exp_var.merge(pca_percent_exp_var, left_index = True, right_index = True)"
      ],
      "execution_count": 0,
      "outputs": [
        {
          "output_type": "execute_result",
          "data": {
            "text/html": [
              "<div>\n",
              "<style scoped>\n",
              "    .dataframe tbody tr th:only-of-type {\n",
              "        vertical-align: middle;\n",
              "    }\n",
              "\n",
              "    .dataframe tbody tr th {\n",
              "        vertical-align: top;\n",
              "    }\n",
              "\n",
              "    .dataframe thead th {\n",
              "        text-align: right;\n",
              "    }\n",
              "</style>\n",
              "<table border=\"1\" class=\"dataframe\">\n",
              "  <thead>\n",
              "    <tr style=\"text-align: right;\">\n",
              "      <th></th>\n",
              "      <th>variance</th>\n",
              "      <th>% variance</th>\n",
              "    </tr>\n",
              "  </thead>\n",
              "  <tbody>\n",
              "    <tr>\n",
              "      <th>Z1</th>\n",
              "      <td>1.034830</td>\n",
              "      <td>51.741019</td>\n",
              "    </tr>\n",
              "    <tr>\n",
              "      <th>Z2</th>\n",
              "      <td>0.965188</td>\n",
              "      <td>48.258981</td>\n",
              "    </tr>\n",
              "  </tbody>\n",
              "</table>\n",
              "</div>"
            ],
            "text/plain": [
              "    variance  % variance\n",
              "Z1  1.034830   51.741019\n",
              "Z2  0.965188   48.258981"
            ]
          },
          "metadata": {
            "tags": []
          },
          "execution_count": 133
        }
      ]
    },
    {
      "cell_type": "code",
      "metadata": {
        "id": "xUi_6aoa0BLj",
        "colab_type": "code",
        "colab": {}
      },
      "source": [
        "# you can see Z1 accounts for 51% of total variability, and Z2 for 48%"
      ],
      "execution_count": 0,
      "outputs": []
    },
    {
      "cell_type": "code",
      "metadata": {
        "id": "YMgaPezQ0Cyd",
        "colab_type": "code",
        "outputId": "a9d86fc6-a91f-4d9f-d423-2937e53722f9",
        "colab": {
          "base_uri": "https://localhost:8080/",
          "height": 524
        }
      },
      "source": [
        "sns.barplot(x=['Age','Gap_Time'],y=pca.explained_variance_ratio_, \n",
        "           data=pca_df, color=\"c\")"
      ],
      "execution_count": 0,
      "outputs": [
        {
          "output_type": "execute_result",
          "data": {
            "text/plain": [
              "<matplotlib.axes._subplots.AxesSubplot at 0x7f93e5220a58>"
            ]
          },
          "metadata": {
            "tags": []
          },
          "execution_count": 110
        },
        {
          "output_type": "display_data",
          "data": {
            "image/png": "[encoded data removed]",
            "text/plain": [
              "<Figure size 842.4x595.44 with 1 Axes>"
            ]
          },
          "metadata": {
            "tags": []
          }
        }
      ]
    },
    {
      "cell_type": "code",
      "metadata": {
        "id": "e1k9jnWYouuU",
        "colab_type": "code",
        "colab": {}
      },
      "source": [
        ""
      ],
      "execution_count": 0,
      "outputs": []
    }
  ]
}